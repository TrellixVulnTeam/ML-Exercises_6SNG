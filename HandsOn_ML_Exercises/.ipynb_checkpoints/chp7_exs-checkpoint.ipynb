{
 "cells": [
  {
   "cell_type": "code",
   "execution_count": 8,
   "metadata": {},
   "outputs": [],
   "source": [
    "import numpy as np\n",
    "import sklearn\n",
    "from sklearn.model_selection import train_test_split\n",
    "from sklearn.ensemble import RandomForestClassifier, ExtraTreesClassifier, VotingClassifier\n",
    "from sklearn.svm import SVC\n",
    "from sklearn.datasets import fetch_openml\n",
    "from sklearn.metrics import accuracy_score\n",
    "import time"
   ]
  },
  {
   "cell_type": "code",
   "execution_count": 2,
   "metadata": {},
   "outputs": [],
   "source": [
    "mnist = fetch_openml('mnist_784', version=1)\n",
    "mnist.target = mnist.target.astype(np.uint8)"
   ]
  },
  {
   "cell_type": "code",
   "execution_count": 3,
   "metadata": {},
   "outputs": [],
   "source": [
    "X_train, X_test, y_train, y_test = train_test_split(mnist.data, mnist.target, test_size=10000, random_state=42)"
   ]
  },
  {
   "cell_type": "code",
   "execution_count": 4,
   "metadata": {},
   "outputs": [],
   "source": [
    "X_train, X_val, y_train, y_val = train_test_split(X_train, y_train, test_size=5000, random_state=42)"
   ]
  },
  {
   "cell_type": "code",
   "execution_count": 5,
   "metadata": {},
   "outputs": [],
   "source": [
    "X_train, _, y_train, _ = train_test_split(X_train, y_train, train_size=10000, random_state=42)"
   ]
  },
  {
   "cell_type": "code",
   "execution_count": 6,
   "metadata": {},
   "outputs": [],
   "source": [
    "svm_clf = SVC(kernel='linear')\n",
    "ext_clf = ExtraTreesClassifier()\n",
    "rdf_clf = RandomForestClassifier()\n",
    "\n",
    "hard_clf = VotingClassifier(estimators=[('sv_h', svm_clf),\n",
    "                                        ('et_h', ext_clf),\n",
    "                                        ('rf_h', rdf_clf)],\n",
    "                            voting='hard')\n",
    "\n",
    "# soft_clf = VotingClassifier(estimators=[('sv_s', SVC(kernel='linear', probability=True)),\n",
    "#                                         ('et_s', ExtraTreesClassifier()),\n",
    "#                                         ('rf_s', RandomForestClassifier())],\n",
    "#                             voting='soft')"
   ]
  },
  {
   "cell_type": "code",
   "execution_count": 7,
   "metadata": {},
   "outputs": [
    {
     "name": "stdout",
     "output_type": "stream",
     "text": [
      "Model: ext_clf\t   |\tscore = 0.9594\t   |\ttraining time =   5.33s\t   |\tprediction time =  0.21s\n",
      "Model: rdf_clf\t   |\tscore = 0.9536\t   |\ttraining time =   5.53s\t   |\tprediction time =  0.19s\n",
      "Model: svm_clf\t   |\tscore = 0.9200\t   |\ttraining time =  17.78s\t   |\tprediction time = 14.57s\n",
      "Model: hard_clf\t   |\tscore = 0.9574\t   |\ttraining time =  34.26s\t   |\tprediction time = 14.39s\n"
     ]
    }
   ],
   "source": [
    "for model, model_name in zip((ext_clf, rdf_clf, svm_clf, hard_clf),\n",
    "                             ('ext_clf', 'rdf_clf', 'svm_clf', 'hard_clf')):\n",
    "    t0 = time.time()\n",
    "    model.fit(X_train, y_train)\n",
    "    t1 = time.time()\n",
    "    \n",
    "    y_pred = model.predict(X_val)\n",
    "    t2 = time.time()\n",
    "    \n",
    "    print('Model: {}\\t   |\\tscore = {:.4f}\\t   |\\ttraining time = {:6.2f}s\\t   |\\tprediction time = {:5.2f}s'.\n",
    "          format(model_name, accuracy_score(y_val, y_pred), round(t1 - t0, 3), round(t2 - t1, 3)))"
   ]
  },
  {
   "cell_type": "code",
   "execution_count": 15,
   "metadata": {},
   "outputs": [],
   "source": [
    "trim_hard_clf = hard_clf"
   ]
  },
  {
   "cell_type": "code",
   "execution_count": 16,
   "metadata": {},
   "outputs": [
    {
     "data": {
      "text/plain": [
       "array([5, 8, 2, ..., 8, 3, 7], dtype=uint8)"
      ]
     },
     "execution_count": 16,
     "metadata": {},
     "output_type": "execute_result"
    }
   ],
   "source": [
    "trim_hard_clf.predict(X_val)"
   ]
  },
  {
   "cell_type": "code",
   "execution_count": 29,
   "metadata": {},
   "outputs": [
    {
     "data": {
      "text/plain": [
       "[('sv_h', None),\n",
       " ('et_h', ExtraTreesClassifier()),\n",
       " ('rf_h', RandomForestClassifier())]"
      ]
     },
     "execution_count": 29,
     "metadata": {},
     "output_type": "execute_result"
    }
   ],
   "source": [
    "hard_clf.estimators"
   ]
  },
  {
   "cell_type": "code",
   "execution_count": 30,
   "metadata": {},
   "outputs": [
    {
     "data": {
      "text/plain": [
       "[('sv_h', None),\n",
       " ('et_h', ExtraTreesClassifier()),\n",
       " ('rf_h', RandomForestClassifier())]"
      ]
     },
     "execution_count": 30,
     "metadata": {},
     "output_type": "execute_result"
    }
   ],
   "source": [
    "trim_hard_clf.estimators"
   ]
  },
  {
   "cell_type": "code",
   "execution_count": 46,
   "metadata": {},
   "outputs": [
    {
     "data": {
      "text/plain": [
       "VotingClassifier(estimators=[('sv_h', 'drop'), ('et_h', ExtraTreesClassifier()),\n",
       "                             ('rf_h', RandomForestClassifier())])"
      ]
     },
     "execution_count": 46,
     "metadata": {},
     "output_type": "execute_result"
    }
   ],
   "source": [
    "trim_hard_clf.set_params(sv_h='drop')"
   ]
  },
  {
   "cell_type": "code",
   "execution_count": 26,
   "metadata": {},
   "outputs": [],
   "source": [
    "del trim_hard_clf.estimators_[0]"
   ]
  },
  {
   "cell_type": "code",
   "execution_count": 31,
   "metadata": {},
   "outputs": [
    {
     "data": {
      "text/plain": [
       "array([5, 8, 2, ..., 8, 3, 7], dtype=uint8)"
      ]
     },
     "execution_count": 31,
     "metadata": {},
     "output_type": "execute_result"
    }
   ],
   "source": [
    "trim_hard_clf.predict(X_val)"
   ]
  },
  {
   "cell_type": "code",
   "execution_count": 32,
   "metadata": {},
   "outputs": [
    {
     "data": {
      "text/plain": [
       "0.9552"
      ]
     },
     "execution_count": 32,
     "metadata": {},
     "output_type": "execute_result"
    }
   ],
   "source": [
    "accuracy_score(y_val, trim_hard_clf.predict(X_val))"
   ]
  },
  {
   "cell_type": "code",
   "execution_count": 34,
   "metadata": {},
   "outputs": [],
   "source": [
    "trim_hard_clf.voting = \"soft\""
   ]
  },
  {
   "cell_type": "code",
   "execution_count": 49,
   "metadata": {},
   "outputs": [
    {
     "data": {
      "text/plain": [
       "0.9556"
      ]
     },
     "execution_count": 49,
     "metadata": {},
     "output_type": "execute_result"
    }
   ],
   "source": [
    "accuracy_score(y_val, trim_hard_clf.predict(X_val))"
   ]
  },
  {
   "cell_type": "code",
   "execution_count": 48,
   "metadata": {},
   "outputs": [
    {
     "data": {
      "text/plain": [
       "VotingClassifier(estimators=[('sv_h', 'drop'), ('et_h', ExtraTreesClassifier()),\n",
       "                             ('rf_h', RandomForestClassifier())])"
      ]
     },
     "execution_count": 48,
     "metadata": {},
     "output_type": "execute_result"
    }
   ],
   "source": [
    "trim_hard_clf.fit(X_train, y_train)"
   ]
  },
  {
   "cell_type": "code",
   "execution_count": 47,
   "metadata": {},
   "outputs": [
    {
     "data": {
      "text/plain": [
       "[('sv_h', 'drop'),\n",
       " ('et_h', ExtraTreesClassifier()),\n",
       " ('rf_h', RandomForestClassifier())]"
      ]
     },
     "execution_count": 47,
     "metadata": {},
     "output_type": "execute_result"
    }
   ],
   "source": [
    "trim_hard_clf.estimators"
   ]
  },
  {
   "cell_type": "code",
   "execution_count": 39,
   "metadata": {},
   "outputs": [],
   "source": [
    "trim_hard_clf.voting = \"hard\""
   ]
  },
  {
   "cell_type": "code",
   "execution_count": 50,
   "metadata": {},
   "outputs": [
    {
     "data": {
      "text/plain": [
       "[('sv_h', 'drop'),\n",
       " ('et_h', ExtraTreesClassifier()),\n",
       " ('rf_h', RandomForestClassifier())]"
      ]
     },
     "execution_count": 50,
     "metadata": {},
     "output_type": "execute_result"
    }
   ],
   "source": [
    "hard_clf.estimators"
   ]
  }
 ],
 "metadata": {
  "kernelspec": {
   "display_name": "Python 3",
   "language": "python",
   "name": "python3"
  },
  "language_info": {
   "codemirror_mode": {
    "name": "ipython",
    "version": 3
   },
   "file_extension": ".py",
   "mimetype": "text/x-python",
   "name": "python",
   "nbconvert_exporter": "python",
   "pygments_lexer": "ipython3",
   "version": "3.8.5"
  }
 },
 "nbformat": 4,
 "nbformat_minor": 4
}
